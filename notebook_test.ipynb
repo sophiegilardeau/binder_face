{
 "cells": [
  {
   "cell_type": "code",
   "execution_count": 2,
   "metadata": {},
   "outputs": [],
   "source": [
    "import numpy as np\n",
    "import scipy.stats as st\n",
    "import sklearn.linear_model as lm\n",
    "import matplotlib.pyplot as plt\n",
    "%matplotlib inline\n",
    "import cv2"
   ]
  },
  {
   "cell_type": "code",
   "execution_count": null,
   "metadata": {},
   "outputs": [],
   "source": [
    "def f(x):\n",
    "    return np.exp(3 * x)"
   ]
  },
  {
   "cell_type": "code",
   "execution_count": null,
   "metadata": {},
   "outputs": [],
   "source": [
    "x_tr = np.linspace(0., 2, 200)\n",
    "y_tr = f(x_tr)"
   ]
  },
  {
   "cell_type": "code",
   "execution_count": null,
   "metadata": {},
   "outputs": [],
   "source": [
    "x = np.array([0, .1, .2, .5, .8, .9, 1])\n",
    "y = f(x) + 2 * np.random.randn(len(x))"
   ]
  },
  {
   "cell_type": "code",
   "execution_count": null,
   "metadata": {},
   "outputs": [],
   "source": [
    "fig, ax = plt.subplots(1, 1, figsize=(6, 3))\n",
    "ax.plot(x_tr, y_tr, '--k')\n",
    "ax.plot(x, y, 'ok', ms=10)\n",
    "ax.set_xlim(0, 1.5)\n",
    "ax.set_ylim(-10, 80)\n",
    "ax.set_title('Generative model')"
   ]
  },
  {
   "cell_type": "code",
   "execution_count": 11,
   "metadata": {},
   "outputs": [],
   "source": [
    "#fichier=\"C:/Users/sophieGi/Documents/Binder/a.jpg\"\n",
    "#fichier= r\"sdata/ArchivesData/VISIA/EXPORT/2019/Soft C Acne-OR242/Validation d'efficacité/19-02-04A Etude Porphyrines-UV/7-Front View-UV-NF 001.jpg\"\n",
    "\n",
    "fichier = r\"\\\\sdata\\ArchivesData\\VISIA\\EXPORT\\2019\\Soft C Acne-OR242\\Validation d'efficacité\\19-02-04A Etude Porphyrines-UV\\7-Front View-UV-NF 001.jpg\".decode('utf-8').encode('cp1252')\n",
    "\n",
    "#print(fichier)"
   ]
  },
  {
   "cell_type": "code",
   "execution_count": 12,
   "metadata": {},
   "outputs": [
    {
     "name": "stdout",
     "output_type": "stream",
     "text": [
      "[[[ 3  6  4]\n",
      "  [ 2  5  3]\n",
      "  [ 2  5  3]\n",
      "  ..., \n",
      "  [ 4  4  4]\n",
      "  [ 4  4  4]\n",
      "  [ 4  4  4]]\n",
      "\n",
      " [[ 2  5  3]\n",
      "  [ 2  5  3]\n",
      "  [ 2  5  3]\n",
      "  ..., \n",
      "  [ 4  4  4]\n",
      "  [ 4  4  4]\n",
      "  [ 4  4  4]]\n",
      "\n",
      " [[ 2  5  3]\n",
      "  [ 2  5  3]\n",
      "  [ 2  5  3]\n",
      "  ..., \n",
      "  [ 4  4  4]\n",
      "  [ 4  4  4]\n",
      "  [ 3  3  3]]\n",
      "\n",
      " ..., \n",
      " [[24 12  8]\n",
      "  [24 12  8]\n",
      "  [24 12  8]\n",
      "  ..., \n",
      "  [27  8  5]\n",
      "  [27  8  5]\n",
      "  [27  8  5]]\n",
      "\n",
      " [[24 12  8]\n",
      "  [24 12  8]\n",
      "  [24 12  8]\n",
      "  ..., \n",
      "  [27  8  5]\n",
      "  [27  8  5]\n",
      "  [26  7  4]]\n",
      "\n",
      " [[23 11  7]\n",
      "  [23 11  7]\n",
      "  [23 11  7]\n",
      "  ..., \n",
      "  [27  8  5]\n",
      "  [27  8  5]\n",
      "  [26  7  4]]]\n"
     ]
    }
   ],
   "source": [
    "img = cv2.imread(fichier)\n",
    "print(img)"
   ]
  },
  {
   "cell_type": "code",
   "execution_count": null,
   "metadata": {
    "scrolled": true
   },
   "outputs": [],
   "source": [
    "cv2.imshow('image',img)\n",
    "cv2.waitKey(0)\n",
    "cv2.destroyAllWindows()"
   ]
  },
  {
   "cell_type": "code",
   "execution_count": null,
   "metadata": {},
   "outputs": [],
   "source": [
    "fig, ax = plt.subplots()\n",
    "im = ax.imshow(img)\n",
    "plt.show()"
   ]
  },
  {
   "cell_type": "code",
   "execution_count": null,
   "metadata": {},
   "outputs": [],
   "source": []
  }
 ],
 "metadata": {
  "kernelspec": {
   "display_name": "Python 2",
   "language": "python",
   "name": "python2"
  },
  "language_info": {
   "codemirror_mode": {
    "name": "ipython",
    "version": 2
   },
   "file_extension": ".py",
   "mimetype": "text/x-python",
   "name": "python",
   "nbconvert_exporter": "python",
   "pygments_lexer": "ipython2",
   "version": "2.7.16"
  }
 },
 "nbformat": 4,
 "nbformat_minor": 2
}
